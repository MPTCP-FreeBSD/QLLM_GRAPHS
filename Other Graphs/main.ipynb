{
 "cells": [
  {
   "cell_type": "code",
   "execution_count": 1,
   "metadata": {},
   "outputs": [
    {
     "data": {
      "image/png": "[encoded data removed]",
      "text/plain": [
       "<Figure size 400x300 with 1 Axes>"
      ]
     },
     "metadata": {},
     "output_type": "display_data"
    },
    {
     "name": "stderr",
     "output_type": "stream",
     "text": [
      "The PostScript backend does not support transparency; partially transparent artists will be rendered opaque.\n"
     ]
    }
   ],
   "source": [
    "import matplotlib.pyplot as plt\n",
    "import numpy as np\n",
    "from config.settings import GRAPH_SAVE_FOLDER, colors, DPI, SAVE_FORMATS, bar_width as global_bar_width , figsize as global_figsize, title_req\n",
    "\n",
    "from plotter import save_plot\n",
    "\n",
    "# Data\n",
    "models = ['Llama3.2 (3B)','Llama2 (7B)', 'OPT 1.3B', 'GPT2 (125M)', 'T5 (220M)']\n",
    "full_parameters = [3249453056,6674456576, 1340923904, 125e6, 220e6]  # Full parameters\n",
    "trainable_parameters = [36700160,67108864, 25165824, 125e6, 220e6]  # Trainable parameters\n",
    "\n",
    "\n",
    "# Normalize to billions for readability\n",
    "full_parameters = [p / 1e9 for p in full_parameters]\n",
    "trainable_parameters = [p / 1e9 for p in trainable_parameters]\n",
    "\n",
    "# Calculate trainable parameter percentages\n",
    "percentages = [(tp / fp) * 100 for tp, fp in zip(trainable_parameters, full_parameters)]\n",
    "\n",
    "figsize = global_figsize\n",
    "figsize = (4,3)\n",
    "\n",
    "# Bar plot settings\n",
    "x = np.arange(len(models))  # X-axis positions\n",
    "bar_width = 0.35  # Width of the bars\n",
    "# Create figure with specified size\n",
    "fig = plt.figure(figsize=figsize)  # Set figure size (10 inches by 6 inches)\n",
    "# Plot the full parameters in green\n",
    "plt.bar(x, full_parameters, width=bar_width, color='green', label='Full Parameters')\n",
    "\n",
    "# Overlay the trainable parameters in orange\n",
    "plt.bar(x, trainable_parameters, width=bar_width, color='orange', label='Trainable Parameters')\n",
    "\n",
    "# Annotate the percentage on top of each bar\n",
    "for i, (tp, perc) in enumerate(zip(trainable_parameters, percentages)):\n",
    "    plt.text(x[i], tp + 0.05, f'{perc:.2f}%', ha='center', color='black')\n",
    "\n",
    "# Customizing the plot\n",
    "plt.xlabel('Models')\n",
    "plt.ylabel('Parameters (in Billions)')\n",
    "# plt.title('Comparison of Full and Trainable Parameters')\n",
    "plt.xticks(x, models, rotation=15)\n",
    "plt.legend()\n",
    "plt.tight_layout()\n",
    "\n",
    "# Show the plot\n",
    "plt.show()\n",
    "\n",
    "save_plot(fig, 'Trainable_Parameters_Graph', GRAPH_SAVE_FOLDER)\n"
   ]
  },
  {
   "cell_type": "code",
   "execution_count": 2,
   "metadata": {},
   "outputs": [],
   "source": [
    "from plotter import plot_bar, save_plot\n",
    "from config.settings import GRAPH_SAVE_FOLDER"
   ]
  },
  {
   "cell_type": "code",
   "execution_count": 3,
   "metadata": {},
   "outputs": [],
   "source": [
    "from plotter import plot_bar, save_plot, plot_bar_adjust\n",
    "from config.settings import GRAPH_SAVE_FOLDER\n",
    "\n",
    "methods = ['Full Fine-Tune llama2-7B', 'Llama3','Llama2', 'OPT', 'GPT2', 'T5']\n",
    "gpu_memory = [65.88, 16.934, 23.919,7.465,2.338,2.933]\n",
    "\n",
    "# Plot GPU Memory Utilization\n",
    "colors = ['blue', 'red', 'black', 'g', 'm', 'y', 'k', '#ff6347']\n",
    "plot_bar_adjust(\n",
    "    data=gpu_memory,\n",
    "    labels=methods,\n",
    "    ylabel='GPU Memory Utilization (GB)',\n",
    "    title='GPU Memory Utilization',\n",
    "    filename=\"GPU_Memory_Utilization_Graph\",\n",
    "    folder=GRAPH_SAVE_FOLDER,\n",
    "    bar_width=0.5,\n",
    "    figsize=(5,4),\n",
    "    colors=colors\n",
    ")"
   ]
  },
  {
   "cell_type": "code",
   "execution_count": 4,
   "metadata": {},
   "outputs": [],
   "source": [
    "from plotter import plot_bar, save_plot, plot_bar_adjust\n",
    "from config.settings import GRAPH_SAVE_FOLDER\n",
    "# Data and paths\n",
    "models = ['Llama2-7B', 'Net-LLM' ]\n",
    "times = [0.2, 0.04]  # Example times in seconds\n",
    "\n",
    "models = ['Full Fine-Tune Llama2','Llama3','Llama2', 'OPT', 'GPT2', 'T5']\n",
    "colors = ['blue', 'red', 'black', 'g', 'm', 'y', 'k', '#ff6347']\n",
    "times = [0.200,0.05659322569244786,0.056146607071161264,0.05382847120887355,0.0418628338136171,0.040575546214455055]\n",
    "\n",
    "\n",
    "# Plot average answer generation times\n",
    "plot_bar_adjust(\n",
    "    data=times,\n",
    "    labels=models,\n",
    "    ylabel='Average Answer Generation Time (s)',\n",
    "    title='Average Answer Generation Time by Model',\n",
    "    filename=\"Answer_Generation_Time_Graph\",\n",
    "    folder=GRAPH_SAVE_FOLDER,\n",
    "    bar_width=0.5,\n",
    "    figsize=(5,4),\n",
    "    colors=colors\n",
    ")"
   ]
  },
  {
   "cell_type": "code",
   "execution_count": 5,
   "metadata": {},
   "outputs": [],
   "source": [
    "# Data and paths\n",
    "models = ['Llama3','Llama2', 'OPT', 'GPT2', 'T5']\n",
    "colors = ['black', 'g', 'm', 'y', 'k', '#ff6347']\n",
    "# times = [14.418755293620958,0.29904726816548244, 0.1795850792858336, 0.3226693036821153]  # Example times in seconds\n",
    "# times = [22.3058,0.2990, 0.1796, 0.3226]  # Example times in seconds\n",
    "\n",
    "times = [2.214491793645753,139.75633894642195, 1.1131177690956329, 1.0805840000841354,0.9621389863226149]  # Example times in hours\n",
    "\n",
    "\n",
    "# Plot Training Time\n",
    "plot_bar(\n",
    "    data=times,\n",
    "    labels=models,\n",
    "    ylabel='Training Time (h)',\n",
    "    title='Training Time by Model',\n",
    "    filename=\"Training_Time_Graph\",\n",
    "    folder=GRAPH_SAVE_FOLDER,\n",
    "    bar_width=0.5,\n",
    "    figsize=(5,4),\n",
    "    colors=colors\n",
    ")"
   ]
  },
  {
   "cell_type": "code",
   "execution_count": 6,
   "metadata": {},
   "outputs": [],
   "source": [
    "# # Data and paths\n",
    "# models = ['Net-LLM', 'L4S-LLM']\n",
    "# valid_answer_percentages = [98, 99.96]\n",
    "# # Plot valid answer percentages\n",
    "# colors = ['red', 'black']\n",
    "# plot_bar(\n",
    "#     data=valid_answer_percentages,\n",
    "#     labels=models,\n",
    "#     ylabel='Generating Valid Answer (%)',\n",
    "#     title='Valid Answer Percentage by Model',\n",
    "#     filename=\"Valid_Answer_Percentage_Graph\",\n",
    "#     folder=GRAPH_SAVE_FOLDER,\n",
    "#     colors=colors\n",
    "\n",
    "# )"
   ]
  }
 ],
 "metadata": {
  "kernelspec": {
   "display_name": "vizenv",
   "language": "python",
   "name": "python3"
  },
  "language_info": {
   "codemirror_mode": {
    "name": "ipython",
    "version": 3
   },
   "file_extension": ".py",
   "mimetype": "text/x-python",
   "name": "python",
   "nbconvert_exporter": "python",
   "pygments_lexer": "ipython3",
   "version": "3.12.8"
  }
 },
 "nbformat": 4,
 "nbformat_minor": 2
}
