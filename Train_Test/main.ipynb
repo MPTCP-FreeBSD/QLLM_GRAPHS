{
 "cells": [
  {
   "cell_type": "code",
   "execution_count": 1,
   "metadata": {},
   "outputs": [
    {
     "name": "stdout",
     "output_type": "stream",
     "text": [
      "data\\llama3_train Training\n",
      "training_time 2.214491793645753\n",
      "start_time 1739421855.4572992\n",
      "end_time 1739429827.6277564\n",
      "log_dir data\\llama3_train\n",
      "mean_timestamps_each_step 0.27786256848549357\n",
      "data\\llama2_train Training\n",
      "training_time 139.75633894642195\n",
      "start_time 1738222224.428882\n",
      "end_time 1738725347.249089\n",
      "log_dir data\\llama2_train\n",
      "mean_timestamps_each_step 17.174638813827734\n",
      "data\\opt_train Training\n",
      "training_time 1.1131177690956329\n",
      "start_time 1739432927.6364615\n",
      "end_time 1739436934.8604302\n",
      "log_dir data\\opt_train\n",
      "mean_timestamps_each_step 0.1549911628329024\n",
      "data\\gpt_train Training\n",
      "training_time 1.0805840000841354\n",
      "start_time 1739440408.559257\n",
      "end_time 1739444298.6616573\n",
      "log_dir data\\gpt_train\n",
      "mean_timestamps_each_step 0.15641580576799352\n",
      "data\\t5llm_train Training\n",
      "training_time 0.9621389863226149\n",
      "start_time 1739436940.1617973\n",
      "end_time 1739440403.862148\n",
      "log_dir data\\t5llm_train\n",
      "mean_timestamps_each_step 0.1398630590098245\n",
      "folder save output/graphs/Trainingcomparison\n"
     ]
    },
    {
     "name": "stderr",
     "output_type": "stream",
     "text": [
      "The PostScript backend does not support transparency; partially transparent artists will be rendered opaque.\n"
     ]
    },
    {
     "name": "stdout",
     "output_type": "stream",
     "text": [
      "folder save output/graphs/Trainingcomparison\n"
     ]
    },
    {
     "name": "stderr",
     "output_type": "stream",
     "text": [
      "The PostScript backend does not support transparency; partially transparent artists will be rendered opaque.\n"
     ]
    }
   ],
   "source": [
    "import os\n",
    "from utils.data_loader import load_log_files, parse_logs\n",
    "from utils.plotter import plot_comparison\n",
    "from config.settings import GRAPH_SAVE_FOLDER, DATA_FOLDER, SAVE_FORMATS\n",
    "\n",
    "# llm_tags = ['opt_train', 'gpt_train', 't5llm_train', 'llama_train1', 'llama_train2', 'llama_train3']\n",
    "# label_name = \"Training\"\n",
    "llm_tags = ['llama3_train', 'llama2_train' , 'opt_train', 'gpt_train', 't5llm_train']\n",
    "# llm_tags = ['llama3_train', 'opt_train', 'gpt_train', 't5llm_train']\n",
    "label_name = \"Training\"\n",
    "# Create a list to store dataframes for comparison\n",
    "dfs = []\n",
    "labels = []\n",
    "\n",
    "for llm_tag in llm_tags:\n",
    "    # Paths\n",
    "    log_dir = os.path.join(DATA_FOLDER, llm_tag)\n",
    "    print(log_dir, label_name)\n",
    "    \n",
    "    # Load and process data\n",
    "    log_files = load_log_files(log_dir, label_name)\n",
    "    df = parse_logs(log_dir, log_files, label_name)\n",
    "    \n",
    "    # Append the dataframe and label\n",
    "    dfs.append(df)\n",
    "    labels.append(llm_tag.replace(\"_train\",\"\"))\n",
    "\n",
    "\n",
    "labels = [\"Llama3\",\"Llama2\", \"OPT\", \"GPT2\",\"T5\"]\n",
    "\n",
    "# Ensure the save folder exists\n",
    "os.makedirs(GRAPH_SAVE_FOLDER, exist_ok=True)\n",
    "\n",
    "# Save folder for comparison plots\n",
    "comparison_folder = os.path.join(GRAPH_SAVE_FOLDER, label_name+\"comparison\")\n",
    "os.makedirs(comparison_folder, exist_ok=True)\n",
    "\n",
    "# Plot Mean Loss comparison\n",
    "plot_comparison(\n",
    "    dfs, 'Epoch', 'Mean Loss', labels,\n",
    "    'Mean Loss Comparison over Epochs', 'Epoch', 'Mean Loss',\n",
    "    \"Mean_Loss_Comparison_Train\", comparison_folder\n",
    ")\n",
    "\n",
    "# Plot Mean Accuracy comparison\n",
    "plot_comparison(\n",
    "    dfs, 'Epoch', 'Mean Accuracy', labels,\n",
    "    'Mean Accuracy Comparison over Epochs', 'Epoch', 'Mean Accuracy',\n",
    "    \"Mean_Accuracy_Comparison_Train\", comparison_folder\n",
    ")\n"
   ]
  },
  {
   "cell_type": "code",
   "execution_count": 2,
   "metadata": {},
   "outputs": [
    {
     "name": "stdout",
     "output_type": "stream",
     "text": [
      "data\\llama3_test Testing\n",
      "training_time 0.164363581471973\n",
      "start_time 1739445668.2366126\n",
      "end_time 1739446259.9455059\n",
      "log_dir data\\llama3_test\n",
      "mean_timestamps_each_step 0.05659322569244786\n",
      "data\\opt_test Testing\n",
      "training_time 0.10702839056650798\n",
      "start_time 1739446265.8145962\n",
      "end_time 1739446651.1168022\n",
      "log_dir data\\opt_test\n",
      "mean_timestamps_each_step 0.05382847120887355\n",
      "data\\gpt_test Testing\n",
      "training_time 0.08691147294309404\n",
      "start_time 1739446951.0421247\n",
      "end_time 1739447263.9234273\n",
      "log_dir data\\gpt_test\n",
      "mean_timestamps_each_step 0.0418628338136171\n",
      "data\\t5llm_test Testing\n",
      "training_time 0.08098830878734589\n",
      "start_time 1739446655.298214\n",
      "end_time 1739446946.8561256\n",
      "log_dir data\\t5llm_test\n",
      "mean_timestamps_each_step 0.040575546214455055\n",
      "folder save output/graphs/Testingcomparison\n"
     ]
    },
    {
     "name": "stderr",
     "output_type": "stream",
     "text": [
      "The PostScript backend does not support transparency; partially transparent artists will be rendered opaque.\n"
     ]
    },
    {
     "name": "stdout",
     "output_type": "stream",
     "text": [
      "folder save output/graphs/Testingcomparison\n"
     ]
    },
    {
     "name": "stderr",
     "output_type": "stream",
     "text": [
      "The PostScript backend does not support transparency; partially transparent artists will be rendered opaque.\n"
     ]
    }
   ],
   "source": [
    "import os\n",
    "from utils.data_loader import load_log_files, parse_logs\n",
    "from utils.plotter import plot_comparison\n",
    "from config.settings import GRAPH_SAVE_FOLDER, DATA_FOLDER, SAVE_FORMATS\n",
    "\n",
    "# llm_tags = ['opt_test', 'gpt_test', 't5llm_test','llama_test2','llama_test3']\n",
    "# label_name = \"Testing\"\n",
    "\n",
    "llm_tags = ['llama3_test', 'opt_test', 'gpt_test', 't5llm_test']\n",
    "label_name = \"Testing\"\n",
    "\n",
    "# Create a list to store dataframes for comparison\n",
    "dfs = []\n",
    "labels = []\n",
    "\n",
    "for llm_tag in llm_tags:\n",
    "    # Paths\n",
    "    log_dir = os.path.join(DATA_FOLDER, llm_tag)\n",
    "    print(log_dir, label_name)\n",
    "    \n",
    "    # Load and process data\n",
    "    log_files = load_log_files(log_dir, label_name)\n",
    "    df = parse_logs(log_dir, log_files, label_name)\n",
    "    \n",
    "    # Append the dataframe and label\n",
    "    dfs.append(df)\n",
    "    labels.append(llm_tag)\n",
    "\n",
    "# Ensure the save folder exists\n",
    "os.makedirs(GRAPH_SAVE_FOLDER, exist_ok=True)\n",
    "\n",
    "# Save folder for comparison plots\n",
    "comparison_folder = os.path.join(GRAPH_SAVE_FOLDER, label_name+\"comparison\")\n",
    "os.makedirs(comparison_folder, exist_ok=True)\n",
    "\n",
    "# Plot Mean Loss comparison\n",
    "plot_comparison(\n",
    "    dfs, 'Epoch', 'Mean Loss', labels,\n",
    "    'Mean Loss Comparison over Epochs', 'Epoch', 'Mean Loss',\n",
    "    \"Mean_Loss_Comparison_test\", comparison_folder\n",
    ")\n",
    "\n",
    "# Plot Mean Accuracy comparison\n",
    "plot_comparison(\n",
    "    dfs, 'Epoch', 'Mean Accuracy', labels,\n",
    "    'Mean Accuracy Comparison over Epochs', 'Epoch', 'Mean Accuracy',\n",
    "    \"Mean_Accuracy_Comparison_test\", comparison_folder\n",
    ")\n"
   ]
  },
  {
   "cell_type": "code",
   "execution_count": 3,
   "metadata": {},
   "outputs": [
    {
     "name": "stdout",
     "output_type": "stream",
     "text": [
      "data\\llama3_train Training\n",
      "training_time 2.214491793645753\n",
      "start_time 1739421855.4572992\n",
      "end_time 1739429827.6277564\n",
      "log_dir data\\llama3_train\n",
      "mean_timestamps_each_step 0.27786256848549357\n"
     ]
    },
    {
     "name": "stderr",
     "output_type": "stream",
     "text": [
      "The PostScript backend does not support transparency; partially transparent artists will be rendered opaque.\n",
      "The PostScript backend does not support transparency; partially transparent artists will be rendered opaque.\n",
      "The PostScript backend does not support transparency; partially transparent artists will be rendered opaque.\n",
      "The PostScript backend does not support transparency; partially transparent artists will be rendered opaque.\n",
      "The PostScript backend does not support transparency; partially transparent artists will be rendered opaque.\n",
      "The PostScript backend does not support transparency; partially transparent artists will be rendered opaque.\n"
     ]
    },
    {
     "name": "stdout",
     "output_type": "stream",
     "text": [
      "data\\opt_train Training\n",
      "training_time 1.1131177690956329\n",
      "start_time 1739432927.6364615\n",
      "end_time 1739436934.8604302\n",
      "log_dir data\\opt_train\n",
      "mean_timestamps_each_step 0.1549911628329024\n"
     ]
    },
    {
     "name": "stderr",
     "output_type": "stream",
     "text": [
      "The PostScript backend does not support transparency; partially transparent artists will be rendered opaque.\n",
      "The PostScript backend does not support transparency; partially transparent artists will be rendered opaque.\n",
      "The PostScript backend does not support transparency; partially transparent artists will be rendered opaque.\n",
      "The PostScript backend does not support transparency; partially transparent artists will be rendered opaque.\n",
      "The PostScript backend does not support transparency; partially transparent artists will be rendered opaque.\n",
      "The PostScript backend does not support transparency; partially transparent artists will be rendered opaque.\n"
     ]
    },
    {
     "name": "stdout",
     "output_type": "stream",
     "text": [
      "data\\gpt_train Training\n",
      "training_time 1.0805840000841354\n",
      "start_time 1739440408.559257\n",
      "end_time 1739444298.6616573\n",
      "log_dir data\\gpt_train\n",
      "mean_timestamps_each_step 0.15641580576799352\n"
     ]
    },
    {
     "name": "stderr",
     "output_type": "stream",
     "text": [
      "The PostScript backend does not support transparency; partially transparent artists will be rendered opaque.\n",
      "The PostScript backend does not support transparency; partially transparent artists will be rendered opaque.\n",
      "The PostScript backend does not support transparency; partially transparent artists will be rendered opaque.\n",
      "The PostScript backend does not support transparency; partially transparent artists will be rendered opaque.\n",
      "The PostScript backend does not support transparency; partially transparent artists will be rendered opaque.\n",
      "The PostScript backend does not support transparency; partially transparent artists will be rendered opaque.\n"
     ]
    },
    {
     "name": "stdout",
     "output_type": "stream",
     "text": [
      "data\\t5llm_train Training\n",
      "training_time 0.9621389863226149\n",
      "start_time 1739436940.1617973\n",
      "end_time 1739440403.862148\n",
      "log_dir data\\t5llm_train\n",
      "mean_timestamps_each_step 0.1398630590098245\n"
     ]
    },
    {
     "name": "stderr",
     "output_type": "stream",
     "text": [
      "The PostScript backend does not support transparency; partially transparent artists will be rendered opaque.\n",
      "The PostScript backend does not support transparency; partially transparent artists will be rendered opaque.\n",
      "The PostScript backend does not support transparency; partially transparent artists will be rendered opaque.\n",
      "The PostScript backend does not support transparency; partially transparent artists will be rendered opaque.\n",
      "The PostScript backend does not support transparency; partially transparent artists will be rendered opaque.\n",
      "The PostScript backend does not support transparency; partially transparent artists will be rendered opaque.\n"
     ]
    }
   ],
   "source": [
    "import os\n",
    "from utils.data_loader import load_log_files, parse_logs\n",
    "from utils.plotter import plot_metric\n",
    "from config.settings import GRAPH_SAVE_FOLDER, DATA_FOLDER, SAVE_FORMATS\n",
    "\n",
    "\n",
    "# llm_tags = ['opt_train', 'gpt_train', 't5llm_train', 'llama_train1','llama_train2','llama_train3','llama_train13']\n",
    "llm_tags = ['llama3_train', 'opt_train', 'gpt_train', 't5llm_train']\n",
    "label_name = \"Training\"\n",
    "\n",
    "# llm_tags = ['opt_test', 'gpt_test', 't5llm_test','llama_test2','llama_test3']\n",
    "# llm_tags = ['llama_test', 'opt_test', 'gpt_test', 't5llm_test']\n",
    "# label_name = \"Testing\"\n",
    "\n",
    "for llm_tag in llm_tags:\n",
    "    \n",
    "    # Paths\"\n",
    "    log_dir = os.path.join(DATA_FOLDER, llm_tag)\n",
    "    print(log_dir,label_name)\n",
    "\n",
    "    # Ensure the save folders exist\n",
    "    os.makedirs(GRAPH_SAVE_FOLDER, exist_ok=True)\n",
    "\n",
    "    # Add a tag to the folder for better organization\n",
    "    graphs_save_folder = os.path.join(GRAPH_SAVE_FOLDER, llm_tag)\n",
    "\n",
    "    # Ensure the tagged folder exists\n",
    "    os.makedirs(graphs_save_folder, exist_ok=True)\n",
    "\n",
    "\n",
    "    # Load and process data\n",
    "    log_files = load_log_files(log_dir,label_name)\n",
    "    df = parse_logs(log_dir, log_files,label_name)\n",
    "\n",
    "\n",
    "    # Plot Mean and Median Loss over Epochs\n",
    "    plot_metric(\n",
    "        df, 'Epoch', ['Mean Loss', 'Median Loss'],\n",
    "        [label_name + 'Mean Loss', label_name + 'Median Loss'],\n",
    "        'Mean and Median Loss over Epochs', 'Epoch', 'Loss',\n",
    "        label_name + \"Mean_Median_Loss_Graph\", graphs_save_folder\n",
    "    )\n",
    "\n",
    "    # Plot Mean Accuracy over Epochs\n",
    "    plot_metric(\n",
    "        df, 'Epoch', ['Mean Accuracy'],\n",
    "        [label_name + 'Mean Accuracy'],\n",
    "        'Mean Accuracy over Epochs', 'Epoch', 'Accuracy',\n",
    "        label_name + \"Mean_Accuracy_Graph\", graphs_save_folder\n",
    "    )\n",
    "\n",
    "    # Plot Mean CPU Usage over Epochs\n",
    "    plot_metric(\n",
    "        df, 'Epoch', ['Mean CPU Usage'],\n",
    "        [label_name + 'Mean CPU Usage'],\n",
    "        'Mean CPU Usage over Epochs', 'Epoch', 'CPU Usage (%)',\n",
    "        label_name + \"Mean_CPU_Usage_Graph\", graphs_save_folder\n",
    "    )\n",
    "\n",
    "    # Plot Mean RAM Usage over Epochs\n",
    "    plot_metric(\n",
    "        df, 'Epoch', ['Mean RAM Usage'],\n",
    "        [label_name + 'Mean RAM Usage'],\n",
    "        'Mean RAM Usage over Epochs', 'Epoch', 'RAM Usage (%)',\n",
    "        label_name + \"Mean_RAM_Usage_Graph\", graphs_save_folder\n",
    "    )\n",
    "\n",
    "    # Plot Mean GPU Usage over Epochs\n",
    "    plot_metric(\n",
    "        df, 'Epoch', ['Mean GPU Usage'],\n",
    "        [label_name + 'Mean GPU Usage'],\n",
    "        'Mean GPU Usage over Epochs', 'Epoch', 'GPU Usage (%)',\n",
    "        label_name + \"Mean_GPU_Usage_Graph\", graphs_save_folder\n",
    "    )\n",
    "\n",
    "    # Plot Mean Disk Read and Write Speed over Epochs\n",
    "    plot_metric(\n",
    "        df, 'Epoch', ['Mean Disk Read Speed', 'Mean Disk Write Speed'],\n",
    "        [label_name + 'Mean Disk Read Speed', label_name + 'Mean Disk Write Speed'],\n",
    "        'Mean Disk Read and Write Speed over Epochs', 'Epoch', 'Speed (MB/s)',\n",
    "        label_name + \"Mean_Disk_Speed_Graph\", graphs_save_folder\n",
    "    )\n",
    "\n",
    "\n",
    "    # Repeat for other metrics...\n"
   ]
  },
  {
   "cell_type": "code",
   "execution_count": 4,
   "metadata": {},
   "outputs": [
    {
     "name": "stdout",
     "output_type": "stream",
     "text": [
      "data\\llama3_test Testing\n",
      "training_time 0.164363581471973\n",
      "start_time 1739445668.2366126\n",
      "end_time 1739446259.9455059\n",
      "log_dir data\\llama3_test\n",
      "mean_timestamps_each_step 0.05659322569244786\n"
     ]
    },
    {
     "name": "stderr",
     "output_type": "stream",
     "text": [
      "The PostScript backend does not support transparency; partially transparent artists will be rendered opaque.\n",
      "The PostScript backend does not support transparency; partially transparent artists will be rendered opaque.\n",
      "The PostScript backend does not support transparency; partially transparent artists will be rendered opaque.\n",
      "The PostScript backend does not support transparency; partially transparent artists will be rendered opaque.\n",
      "The PostScript backend does not support transparency; partially transparent artists will be rendered opaque.\n",
      "The PostScript backend does not support transparency; partially transparent artists will be rendered opaque.\n"
     ]
    },
    {
     "name": "stdout",
     "output_type": "stream",
     "text": [
      "data\\opt_test Testing\n",
      "training_time 0.10702839056650798\n",
      "start_time 1739446265.8145962\n",
      "end_time 1739446651.1168022\n",
      "log_dir data\\opt_test\n",
      "mean_timestamps_each_step 0.05382847120887355\n"
     ]
    },
    {
     "name": "stderr",
     "output_type": "stream",
     "text": [
      "The PostScript backend does not support transparency; partially transparent artists will be rendered opaque.\n",
      "The PostScript backend does not support transparency; partially transparent artists will be rendered opaque.\n",
      "The PostScript backend does not support transparency; partially transparent artists will be rendered opaque.\n",
      "The PostScript backend does not support transparency; partially transparent artists will be rendered opaque.\n",
      "The PostScript backend does not support transparency; partially transparent artists will be rendered opaque.\n",
      "The PostScript backend does not support transparency; partially transparent artists will be rendered opaque.\n"
     ]
    },
    {
     "name": "stdout",
     "output_type": "stream",
     "text": [
      "data\\gpt_test Testing\n",
      "training_time 0.08691147294309404\n",
      "start_time 1739446951.0421247\n",
      "end_time 1739447263.9234273\n",
      "log_dir data\\gpt_test\n",
      "mean_timestamps_each_step 0.0418628338136171\n"
     ]
    },
    {
     "name": "stderr",
     "output_type": "stream",
     "text": [
      "The PostScript backend does not support transparency; partially transparent artists will be rendered opaque.\n",
      "The PostScript backend does not support transparency; partially transparent artists will be rendered opaque.\n",
      "The PostScript backend does not support transparency; partially transparent artists will be rendered opaque.\n",
      "The PostScript backend does not support transparency; partially transparent artists will be rendered opaque.\n",
      "The PostScript backend does not support transparency; partially transparent artists will be rendered opaque.\n",
      "The PostScript backend does not support transparency; partially transparent artists will be rendered opaque.\n"
     ]
    },
    {
     "name": "stdout",
     "output_type": "stream",
     "text": [
      "data\\t5llm_test Testing\n",
      "training_time 0.08098830878734589\n",
      "start_time 1739446655.298214\n",
      "end_time 1739446946.8561256\n",
      "log_dir data\\t5llm_test\n",
      "mean_timestamps_each_step 0.040575546214455055\n"
     ]
    },
    {
     "name": "stderr",
     "output_type": "stream",
     "text": [
      "The PostScript backend does not support transparency; partially transparent artists will be rendered opaque.\n",
      "The PostScript backend does not support transparency; partially transparent artists will be rendered opaque.\n",
      "The PostScript backend does not support transparency; partially transparent artists will be rendered opaque.\n",
      "The PostScript backend does not support transparency; partially transparent artists will be rendered opaque.\n",
      "The PostScript backend does not support transparency; partially transparent artists will be rendered opaque.\n",
      "The PostScript backend does not support transparency; partially transparent artists will be rendered opaque.\n"
     ]
    }
   ],
   "source": [
    "import os\n",
    "from utils.data_loader import load_log_files, parse_logs\n",
    "from utils.plotter import plot_metric\n",
    "from config.settings import GRAPH_SAVE_FOLDER, DATA_FOLDER, SAVE_FORMATS\n",
    "\n",
    "\n",
    "# llm_tags = ['opt_train', 'gpt_train', 't5llm_train', 'llama_train1','llama_train2','llama_train3','llama_train13']\n",
    "# llm_tags = ['llama_train', 'opt_train', 'gpt_train', 't5llm_train']\n",
    "# label_name = \"Training\"\n",
    "\n",
    "# llm_tags = ['opt_test', 'gpt_test', 't5llm_test','llama_test2','llama_test3']\n",
    "llm_tags = ['llama3_test', 'opt_test', 'gpt_test', 't5llm_test']\n",
    "label_name = \"Testing\"\n",
    "\n",
    "for llm_tag in llm_tags:\n",
    "    \n",
    "    # Paths\"\n",
    "    log_dir = os.path.join(DATA_FOLDER, llm_tag)\n",
    "    print(log_dir,label_name)\n",
    "\n",
    "    # Ensure the save folders exist\n",
    "    os.makedirs(GRAPH_SAVE_FOLDER, exist_ok=True)\n",
    "\n",
    "    # Add a tag to the folder for better organization\n",
    "    graphs_save_folder = os.path.join(GRAPH_SAVE_FOLDER, llm_tag)\n",
    "\n",
    "    # Ensure the tagged folder exists\n",
    "    os.makedirs(graphs_save_folder, exist_ok=True)\n",
    "\n",
    "\n",
    "    # Load and process data\n",
    "    log_files = load_log_files(log_dir,label_name)\n",
    "    df = parse_logs(log_dir, log_files,label_name)\n",
    "\n",
    "\n",
    "    # Plot Mean and Median Loss over Epochs\n",
    "    plot_metric(\n",
    "        df, 'Epoch', ['Mean Loss', 'Median Loss'],\n",
    "        [label_name + 'Mean Loss', label_name + 'Median Loss'],\n",
    "        'Mean and Median Loss over Epochs', 'Epoch', 'Loss',\n",
    "        label_name + \"Mean_Median_Loss_Graph\", graphs_save_folder\n",
    "    )\n",
    "\n",
    "    # Plot Mean Accuracy over Epochs\n",
    "    plot_metric(\n",
    "        df, 'Epoch', ['Mean Accuracy'],\n",
    "        [label_name + 'Mean Accuracy'],\n",
    "        'Mean Accuracy over Epochs', 'Epoch', 'Accuracy',\n",
    "        label_name + \"Mean_Accuracy_Graph\", graphs_save_folder\n",
    "    )\n",
    "\n",
    "    # Plot Mean CPU Usage over Epochs\n",
    "    plot_metric(\n",
    "        df, 'Epoch', ['Mean CPU Usage'],\n",
    "        [label_name + 'Mean CPU Usage'],\n",
    "        'Mean CPU Usage over Epochs', 'Epoch', 'CPU Usage (%)',\n",
    "        label_name + \"Mean_CPU_Usage_Graph\", graphs_save_folder\n",
    "    )\n",
    "\n",
    "    # Plot Mean RAM Usage over Epochs\n",
    "    plot_metric(\n",
    "        df, 'Epoch', ['Mean RAM Usage'],\n",
    "        [label_name + 'Mean RAM Usage'],\n",
    "        'Mean RAM Usage over Epochs', 'Epoch', 'RAM Usage (%)',\n",
    "        label_name + \"Mean_RAM_Usage_Graph\", graphs_save_folder\n",
    "    )\n",
    "\n",
    "    # Plot Mean GPU Usage over Epochs\n",
    "    plot_metric(\n",
    "        df, 'Epoch', ['Mean GPU Usage'],\n",
    "        [label_name + 'Mean GPU Usage'],\n",
    "        'Mean GPU Usage over Epochs', 'Epoch', 'GPU Usage (%)',\n",
    "        label_name + \"Mean_GPU_Usage_Graph\", graphs_save_folder\n",
    "    )\n",
    "\n",
    "    # Plot Mean Disk Read and Write Speed over Epochs\n",
    "    plot_metric(\n",
    "        df, 'Epoch', ['Mean Disk Read Speed', 'Mean Disk Write Speed'],\n",
    "        [label_name + 'Mean Disk Read Speed', label_name + 'Mean Disk Write Speed'],\n",
    "        'Mean Disk Read and Write Speed over Epochs', 'Epoch', 'Speed (MB/s)',\n",
    "        label_name + \"Mean_Disk_Speed_Graph\", graphs_save_folder\n",
    "    )\n",
    "\n",
    "\n",
    "    # Repeat for other metrics...\n"
   ]
  }
 ],
 "metadata": {
  "kernelspec": {
   "display_name": "vizenv",
   "language": "python",
   "name": "python3"
  },
  "language_info": {
   "codemirror_mode": {
    "name": "ipython",
    "version": 3
   },
   "file_extension": ".py",
   "mimetype": "text/x-python",
   "name": "python",
   "nbconvert_exporter": "python",
   "pygments_lexer": "ipython3",
   "version": "3.12.8"
  }
 },
 "nbformat": 4,
 "nbformat_minor": 2
}
